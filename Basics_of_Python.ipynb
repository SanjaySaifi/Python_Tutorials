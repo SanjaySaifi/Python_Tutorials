{
 "cells": [
  {
   "cell_type": "code",
   "execution_count": 20,
   "metadata": {},
   "outputs": [
    {
     "name": "stdout",
     "output_type": "stream",
     "text": [
      " THIS IS MY FIRST PYTHON PROGRAMME\n"
     ]
    }
   ],
   "source": [
    "# BASIC PROGRAMMES TO GET STARTED WITH PYTHON\n",
    "print(' this is my first python programme'.upper())\n",
    "\n"
   ]
  },
  {
   "cell_type": "code",
   "execution_count": 2,
   "metadata": {},
   "outputs": [
    {
     "name": "stdout",
     "output_type": "stream",
     "text": [
      "SOLUTION 2: FINDING AVERAGE OF TWO NUMBERS\n",
      "Enter first number = 2\n",
      "Enter second number = 7\n",
      " average of  2 and 7  in interger is  4\n",
      " average of  2.0 and 7.0  in float is  4.5\n"
     ]
    }
   ],
   "source": [
    "#Solution 2:\tAverage of two numbers (display as integer and float)\n",
    "print('SOLUTION 2: FINDING AVERAGE OF TWO NUMBERS')\n",
    "\n",
    "a=input('Enter first number = ')\n",
    "b=input('Enter second number = ')\n",
    "c=int(a)\n",
    "d=int(b)\n",
    "x=float(a)\n",
    "y=float(b)\n",
    "avgint=int((c+d)/2)\n",
    "avgfloat=(x+y)/2.0\n",
    "print(' average of ',c, 'and',d,' in interger is ',avgint)\n",
    "print(' average of ',x, 'and',y,' in float is ',avgfloat)\n",
    "\n"
   ]
  },
  {
   "cell_type": "code",
   "execution_count": 4,
   "metadata": {},
   "outputs": [
    {
     "name": "stdout",
     "output_type": "stream",
     "text": [
      "SOLUTION 3: PRINTING THE MULTIPLE OF A NUMBER IN REVERSER ORDER\n",
      "Enter a number whose multiple u want to get printed,i.e. 3 = 3\n",
      "Enter the upper limit upto which u want to get multiples,i.e. 40 = 40\n",
      "required multiples in reverse order are : \n",
      "\n",
      "[39, 36, 33, 30, 27, 24, 21, 18, 15, 12, 9, 6, 3, 0]\n"
     ]
    }
   ],
   "source": [
    "#Write a program using for or while loop to print\n",
    " # out all multiples of 3 from 40 to 0 in the decreasing \n",
    " # order 39, 36,33……\n",
    "print('SOLUTION 3: printing the multiple of a number in reverser order'.upper())\n",
    "\n",
    "a=int(input('Enter a number whose multiple u want to get printed,i.e. 3 = '))\n",
    "\n",
    "b=int(input('Enter the upper limit upto which u want to get multiples,i.e. 40 = '))\n",
    "\n",
    "d=[]\n",
    "for i in range(0,b):\n",
    "    if i%a==0:\n",
    "        d.append(i)\n",
    "        \n",
    "\n",
    "print('required multiples in reverse order are : \\n')        \n",
    "print(d[::-1])\n"
   ]
  },
  {
   "cell_type": "code",
   "execution_count": 5,
   "metadata": {},
   "outputs": [
    {
     "name": "stdout",
     "output_type": "stream",
     "text": [
      "PRINTING FIRST N PRIME NUMBERS\n",
      "enter the number to find that many prime number = 10\n",
      "LIST OF FIRST  10  PRIME NUMBERS IS GIVEN BELOW\n",
      "[2, 3, 5, 7, 11, 13, 17, 19, 23, 29]\n"
     ]
    }
   ],
   "source": [
    "#solution 4:\tProgram to display first 50 prime numbers\n",
    "\n",
    "\n",
    "print('printing first n prime numbers'.upper())\n",
    "\n",
    "n=int(input('enter the number to find that many prime number = '))\n",
    "prime=[]\n",
    "for i in range(2,1000):\n",
    "    for j in range(2,i):\n",
    "        if i==1:\n",
    "            break\n",
    "        if i%j==0:\n",
    "            break\n",
    "    else:\n",
    "        prime.append(i)\n",
    "        if len(prime)==n:\n",
    "            print('LIST OF FIRST ',n,' PRIME NUMBERS IS GIVEN BELOW')\n",
    "            print(prime)\n",
    "            \n"
   ]
  },
  {
   "cell_type": "code",
   "execution_count": 6,
   "metadata": {},
   "outputs": [
    {
     "name": "stdout",
     "output_type": "stream",
     "text": [
      " GUESSING THE NUMBER GAME\n",
      "Enter your Name __Sanjay\n",
      "hello Sanjay\n",
      "      let's play a game\n",
      "            i will pick a number from 0 to 100\n",
      "                    you guess the number.\n",
      "                    ready!!!\n",
      "press enter to continue \n",
      " Enter the number u guessed50\n",
      "your guess is too high, try again\n",
      " Enter the number u guessed25\n",
      "your guess is too low,try again\n",
      " Enter the number u guessed33\n",
      "your guess is too low,try again\n",
      " Enter the number u guessed40\n",
      "your guess is too high, try again\n",
      " Enter the number u guessed37\n",
      "your guess is too high, try again\n",
      " Enter the number u guessed34\n",
      "your guess is too low,try again\n",
      " Enter the number u guessed35\n",
      "your guess is too low,try again\n",
      " Enter the number u guessed36\n",
      "WOW!! CONGRATULATIONS YOU GUESSED THE CORRECT NUMBER\n",
      "press enter to exit\n"
     ]
    },
    {
     "data": {
      "text/plain": [
       "''"
      ]
     },
     "execution_count": 6,
     "metadata": {},
     "output_type": "execute_result"
    }
   ],
   "source": [
    "#GUESSING THE NUMBER GAME\n",
    "print(' GUESSING THE NUMBER GAME')\n",
    "a=input('Enter your Name __')\n",
    "print('hello',a,)\n",
    "print('''      let's play a game\n",
    "            i will pick a number from 0 to 100\n",
    "                    you guess the number.\n",
    "                    ready!!!''')\n",
    "input('press enter to continue ')\n",
    "\n",
    "import random\n",
    "num=random.randint(0,100)\n",
    "\n",
    "guess=int(input(' Enter the number u guessed'))\n",
    "while guess!=num:\n",
    "    if guess>num:\n",
    "        print('your guess is too high, try again')\n",
    "    else:print('your guess is too low,try again')\n",
    "    guess=int(input(' Enter the number u guessed'))\n",
    "    \n",
    "\n",
    "    \n",
    "    \n",
    "print('WOW!! CONGRATULATIONS YOU GUESSED THE CORRECT NUMBER')\n",
    "input('press enter to exit')\n"
   ]
  },
  {
   "cell_type": "code",
   "execution_count": 10,
   "metadata": {},
   "outputs": [
    {
     "name": "stdout",
     "output_type": "stream",
     "text": [
      "  DIGIT REVERSING PROGRAMME\n",
      "Enter a number u want to reverse : 12345678\n",
      "Number with reversed digits =  87654321\n"
     ]
    }
   ],
   "source": [
    "# \tReverse the digits of a number. \n",
    "# For example if input is 12345, \n",
    "# then output should be 54321\n",
    "print('  digit reversing programme'.upper())\n",
    "a=(input(\"Enter a number u want to reverse : \"))\n",
    "b=a[::-1]\n",
    "print('Number with reversed digits = ',b)\n"
   ]
  },
  {
   "cell_type": "code",
   "execution_count": 9,
   "metadata": {},
   "outputs": [
    {
     "name": "stdout",
     "output_type": "stream",
     "text": [
      "FINDING FACTORIAL OF A NUMBER\n",
      "Enter the number 5\n",
      "factorial of 5 is 120\n"
     ]
    }
   ],
   "source": [
    "# factorial of a number\n",
    "print('FINDING FACTORIAL OF A NUMBER')\n",
    "def factorial(n):\n",
    "    if n==0:\n",
    "        return 1\n",
    "    else: return n*factorial(n-1)\n",
    "    \n",
    "    \n",
    "fact=int(input('Enter the number '))\n",
    "print('factorial of',fact,'is',factorial(fact))\n"
   ]
  },
  {
   "cell_type": "code",
   "execution_count": 11,
   "metadata": {},
   "outputs": [
    {
     "name": "stdout",
     "output_type": "stream",
     "text": [
      " FINDING THE EXTENSION OF FILE\n",
      "Enter file name for example \"word.dox\" = __sanjay.html\n",
      "extension of your file sanjay.html is html\n",
      "press enter to continue\n"
     ]
    },
    {
     "data": {
      "text/plain": [
       "''"
      ]
     },
     "execution_count": 11,
     "metadata": {},
     "output_type": "execute_result"
    }
   ],
   "source": [
    "#   Write a Python program to accept a\n",
    " # filename from the user and print the\n",
    " # extension of that.\n",
    "print(' FINDING THE EXTENSION OF FILE')\n",
    "fil=input('Enter file name for example \"word.dox\" = __')\n",
    "ext=fil.split(\".\")[1]\n",
    "print('extension of your file',fil,'is',ext)\n",
    "input('press enter to continue')\n"
   ]
  },
  {
   "cell_type": "code",
   "execution_count": 12,
   "metadata": {},
   "outputs": [
    {
     "name": "stdout",
     "output_type": "stream",
     "text": [
      "FINDING FIRST AND LAST COLOUR OF A LIST\n",
      "Enter four colours of your choice\n",
      "colour 1 = red\n",
      "colour 2 = green\n",
      "colour 3 = blue\n",
      "colour 4 = pink\n",
      "first colour of list is red\n",
      "last colour of the list is pink\n"
     ]
    }
   ],
   "source": [
    "#\tWrite a Python program to display\n",
    " # the first and last colors from the following list\n",
    " # .  color_list = [\"Red\",\"Green\",\"White\" ,\"Black\"]\n",
    "print('FINDING FIRST AND LAST COLOUR OF A LIST')\n",
    "print('Enter four colours of your choice')\n",
    "c1=input('colour 1 = ')\n",
    "c2=input('colour 2 = ')\n",
    "c3=input('colour 3 = ')\n",
    "c4=input('colour 4 = ')\n",
    "list=[c1,c2,c3,c4]\n",
    "print('first colour of list is',list[0])\n",
    "print('last colour of the list is',list.pop())\n"
   ]
  },
  {
   "cell_type": "code",
   "execution_count": 13,
   "metadata": {},
   "outputs": [
    {
     "name": "stdout",
     "output_type": "stream",
     "text": [
      "  FINDING AREA OF A CIRCLE\n",
      "enter radius = 10\n",
      "area of circle with radius 10.0 is = 3.14*r*r = 314.0 square unit\n"
     ]
    }
   ],
   "source": [
    "#\tWrite a Python program which \n",
    "# accepts the radius of a circle from the user\n",
    "#  and compute the area\n",
    "print('  FINDING AREA OF A CIRCLE')\n",
    "r=float(input('enter radius = '))\n",
    "a=3.14*r*r\n",
    "print('area of circle with radius', r, 'is = 3.14*r*r =', a,'square unit')\n"
   ]
  },
  {
   "cell_type": "code",
   "execution_count": 14,
   "metadata": {},
   "outputs": [
    {
     "name": "stdout",
     "output_type": "stream",
     "text": [
      " PRINTING THE USER NAME IN REVERSE ORDER\n",
      "Please Enter your full name SANJAY SAIFI\n",
      " your name in reverse order is  YAJNAS IFIAS\n",
      "  also your name with name and surname \n",
      "exchanged in reverse order is  IFIAS YAJNAS\n"
     ]
    }
   ],
   "source": [
    "#Write a Python program which accepts\n",
    " # the user's first and last name and print them\n",
    " # in reverse order with a space between them.\n",
    "print(' printing the user name in reverse order'.upper())\n",
    "a=input('Please Enter your full name ')\n",
    "b=a.split(' ')\n",
    "print(' your name in reverse order is ',b[0][::-1],b[1][::-1])\n",
    "\n",
    "print('''  also your name with name and surname \n",
    "exchanged in reverse order is ''',b[1][::-1],b[0][::-1])\n"
   ]
  },
  {
   "cell_type": "code",
   "execution_count": 15,
   "metadata": {},
   "outputs": [
    {
     "name": "stdout",
     "output_type": "stream",
     "text": [
      " press enter to get current date and time\n",
      "2021-05-01 18:41:20.937107\n"
     ]
    }
   ],
   "source": [
    "# \tWrite a Python program to display \n",
    "# the current date and time.\n",
    "input(' press enter to get current date and time')\n",
    "import datetime\n",
    "print(datetime.datetime.now())\n",
    "\n",
    "\n"
   ]
  },
  {
   "cell_type": "code",
   "execution_count": 16,
   "metadata": {},
   "outputs": [
    {
     "name": "stdout",
     "output_type": "stream",
     "text": [
      " FIND NUMBER OF DAYS BETWEEN TWO DATES\n",
      "enter the day of 1st date(from 1 to 31)12\n",
      "enter the month of 1st date(from 1 to 12)12\n",
      "enter the year of 1st date(from 0001 to 2999)2000\n",
      "your first date is  2000-12-12\n",
      "enter the day of 2nd date(from 1 to 31)12\n",
      "enter the month of 2nd date(from 1 to 12)12\n",
      "enter the year of 2nd date(from 0001 to 2999)2001\n",
      "your second date is  2001-12-12\n",
      "Number of days between  2001-12-12  and  date1 is 365\n"
     ]
    }
   ],
   "source": [
    "#\tWrite a Python program to calculate\n",
    " # number of days between two dates.\n",
    "from datetime import date\n",
    "\n",
    "print(' Find number of days between two dates'.upper())\n",
    "\n",
    "dd1=int(input(\"enter the day of 1st date(from 1 to 31)\"))\n",
    "mm1=int(input(\"enter the month of 1st date(from 1 to 12)\"))\n",
    "yy1=int(input(\"enter the year of 1st date(from 0001 to 2999)\"))\n",
    "date1=date(yy1,mm1,dd1)\n",
    "\n",
    "print('your first date is ',date1)\n",
    "\n",
    "dd2=int(input(\"enter the day of 2nd date(from 1 to 31)\"))\n",
    "mm2=int(input(\"enter the month of 2nd date(from 1 to 12)\"))\n",
    "yy2=int(input(\"enter the year of 2nd date(from 0001 to 2999)\"))\n",
    "date2=date(yy2,mm2,dd2)\n",
    "\n",
    "print('your second date is ',date2)\n",
    "\n",
    "\n",
    "delta=date2-date1\n",
    "print('Number of days between ',date2,' and ','date1 is',delta.days)\n"
   ]
  },
  {
   "cell_type": "code",
   "execution_count": 17,
   "metadata": {},
   "outputs": [
    {
     "name": "stdout",
     "output_type": "stream",
     "text": [
      "Star pattern \n",
      "Enter number of rows you want to print = 5\n",
      "*\n",
      "**\n",
      "***\n",
      "****\n",
      "*****\n"
     ]
    }
   ],
   "source": [
    " #   Write a function called show_stars(rows).\n",
    " # If rows is 3, it should print the following:\n",
    "\n",
    "# *\n",
    "\n",
    "# **\n",
    "\n",
    "# ***\n",
    "print('Star pattern ')\n",
    "n=int(input('Enter number of rows you want to print = '))\n",
    "a='*'\n",
    "for i in range(1,n+1):\n",
    "    print(a*i)\n"
   ]
  },
  {
   "cell_type": "code",
   "execution_count": 19,
   "metadata": {},
   "outputs": [
    {
     "name": "stdout",
     "output_type": "stream",
     "text": [
      "3.8.6 | packaged by conda-forge | (default, Dec 26 2020, 04:30:06) [MSC v.1916 64 bit (AMD64)]\n"
     ]
    }
   ],
   "source": [
    "#\t Write a Python program to get \n",
    "# the Python version you are using\n",
    "\n",
    "import sys\n",
    "print(sys.version)\n"
   ]
  },
  {
   "cell_type": "code",
   "execution_count": null,
   "metadata": {},
   "outputs": [],
   "source": []
  }
 ],
 "metadata": {
  "kernelspec": {
   "display_name": "Python 3",
   "language": "python",
   "name": "python3"
  },
  "language_info": {
   "codemirror_mode": {
    "name": "ipython",
    "version": 3
   },
   "file_extension": ".py",
   "mimetype": "text/x-python",
   "name": "python",
   "nbconvert_exporter": "python",
   "pygments_lexer": "ipython3",
   "version": "3.8.6"
  }
 },
 "nbformat": 4,
 "nbformat_minor": 4
}
