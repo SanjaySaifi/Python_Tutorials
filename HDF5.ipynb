{
 "cells": [
  {
   "cell_type": "code",
   "execution_count": 68,
   "id": "1ea4309e",
   "metadata": {},
   "outputs": [],
   "source": [
    "import numpy as np\n",
    "import h5py\n",
    "\n"
   ]
  },
  {
   "cell_type": "code",
   "execution_count": 69,
   "id": "6aa2f93b",
   "metadata": {},
   "outputs": [],
   "source": [
    "file=\"C:/Users/HP/Desktop/unreal/chetan/data.h5\"\n",
    "\n",
    "hf = h5py.File(file, 'r')"
   ]
  },
  {
   "cell_type": "code",
   "execution_count": 70,
   "id": "445b13ef",
   "metadata": {},
   "outputs": [
    {
     "data": {
      "text/plain": [
       "<KeysViewHDF5 ['METADATA', 'ancillary_data', 'ds_geosegments', 'ds_metrics', 'ds_surf_type', 'gt1l', 'gt1r', 'gt2l', 'gt2r', 'gt3l', 'gt3r', 'orbit_info', 'quality_assessment']>"
      ]
     },
     "execution_count": 70,
     "metadata": {},
     "output_type": "execute_result"
    }
   ],
   "source": [
    "hf.keys()"
   ]
  },
  {
   "cell_type": "code",
   "execution_count": 84,
   "id": "a88b72d0",
   "metadata": {},
   "outputs": [
    {
     "data": {
      "text/plain": [
       "h5py._hl.files.File"
      ]
     },
     "execution_count": 84,
     "metadata": {},
     "output_type": "execute_result"
    }
   ],
   "source": [
    "type(hf)"
   ]
  },
  {
   "cell_type": "code",
   "execution_count": 86,
   "id": "198dea37",
   "metadata": {},
   "outputs": [],
   "source": [
    "data=np.array(hf)"
   ]
  },
  {
   "cell_type": "code",
   "execution_count": 87,
   "id": "e18777fe",
   "metadata": {},
   "outputs": [
    {
     "data": {
      "text/plain": [
       "array(['METADATA', 'ancillary_data', 'ds_geosegments', 'ds_metrics',\n",
       "       'ds_surf_type', 'gt1l', 'gt1r', 'gt2l', 'gt2r', 'gt3l', 'gt3r',\n",
       "       'orbit_info', 'quality_assessment'], dtype='<U18')"
      ]
     },
     "execution_count": 87,
     "metadata": {},
     "output_type": "execute_result"
    }
   ],
   "source": [
    "data"
   ]
  },
  {
   "cell_type": "code",
   "execution_count": 88,
   "id": "547efc25",
   "metadata": {},
   "outputs": [
    {
     "data": {
      "text/plain": [
       "(13,)"
      ]
     },
     "execution_count": 88,
     "metadata": {},
     "output_type": "execute_result"
    }
   ],
   "source": [
    "data.shape"
   ]
  },
  {
   "cell_type": "code",
   "execution_count": 89,
   "id": "fe0f66e3",
   "metadata": {},
   "outputs": [
    {
     "data": {
      "text/plain": [
       "13"
      ]
     },
     "execution_count": 89,
     "metadata": {},
     "output_type": "execute_result"
    }
   ],
   "source": [
    "data.size"
   ]
  },
  {
   "cell_type": "code",
   "execution_count": 90,
   "id": "32b03581",
   "metadata": {},
   "outputs": [
    {
     "name": "stdout",
     "output_type": "stream",
     "text": [
      "['METADATA' 'ancillary_data' 'ds_geosegments' 'ds_metrics' 'ds_surf_type'\n",
      " 'gt1l' 'gt1r' 'gt2l' 'gt2r' 'gt3l' 'gt3r' 'orbit_info'\n",
      " 'quality_assessment']\n"
     ]
    }
   ],
   "source": [
    "print(data)"
   ]
  },
  {
   "cell_type": "code",
   "execution_count": 94,
   "id": "339900ef",
   "metadata": {},
   "outputs": [
    {
     "data": {
      "text/plain": [
       "array(['METADATA', 'ancillary_data', 'ds_geosegments', 'ds_metrics',\n",
       "       'ds_surf_type', 'gt1l', 'gt1r', 'gt2l', 'gt2r', 'gt3l', 'gt3r',\n",
       "       'orbit_info', 'quality_assessment'], dtype='<U18')"
      ]
     },
     "execution_count": 94,
     "metadata": {},
     "output_type": "execute_result"
    }
   ],
   "source": [
    "data"
   ]
  },
  {
   "cell_type": "code",
   "execution_count": null,
   "id": "8f938a2a",
   "metadata": {},
   "outputs": [],
   "source": []
  }
 ],
 "metadata": {
  "kernelspec": {
   "display_name": "Python 3",
   "language": "python",
   "name": "python3"
  },
  "language_info": {
   "codemirror_mode": {
    "name": "ipython",
    "version": 3
   },
   "file_extension": ".py",
   "mimetype": "text/x-python",
   "name": "python",
   "nbconvert_exporter": "python",
   "pygments_lexer": "ipython3",
   "version": "3.8.8"
  }
 },
 "nbformat": 4,
 "nbformat_minor": 5
}
